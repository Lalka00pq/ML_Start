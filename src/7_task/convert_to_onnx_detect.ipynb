{
 "cells": [
  {
   "cell_type": "code",
   "execution_count": 1,
   "metadata": {},
   "outputs": [],
   "source": [
    "from ultralytics import YOLO"
   ]
  },
  {
   "cell_type": "markdown",
   "metadata": {},
   "source": [
    "### Перевод модели YOLO8"
   ]
  },
  {
   "cell_type": "code",
   "execution_count": 3,
   "metadata": {},
   "outputs": [
    {
     "name": "stdout",
     "output_type": "stream",
     "text": [
      "Ultralytics 8.3.56  Python-3.12.1 torch-2.5.1+cpu CPU (AMD Ryzen 5 4600H with Radeon Graphics)\n",
      "Model summary (fused): 168 layers, 11,125,971 parameters, 0 gradients, 28.4 GFLOPs\n",
      "\n",
      "\u001b[34m\u001b[1mPyTorch:\u001b[0m starting from 'best_yolo8 copy.pt' with input shape (1, 3, 640, 640) BCHW and output shape(s) (1, 5, 8400) (21.5 MB)\n",
      "\u001b[31m\u001b[1mrequirements:\u001b[0m Ultralytics requirement ['onnxslim'] not found, attempting AutoUpdate...\n",
      "Collecting onnxslim\n",
      "  Downloading onnxslim-0.1.47-py3-none-any.whl.metadata (4.4 kB)\n",
      "Requirement already satisfied: onnx in c:\\users\\user\\desktop\\ml_projects\\ml_start_caisar\\ml_start\\tenv\\lib\\site-packages (from onnxslim) (1.17.0)\n",
      "Requirement already satisfied: sympy in c:\\users\\user\\desktop\\ml_projects\\ml_start_caisar\\ml_start\\tenv\\lib\\site-packages (from onnxslim) (1.13.1)\n",
      "Requirement already satisfied: packaging in c:\\users\\user\\desktop\\ml_projects\\ml_start_caisar\\ml_start\\tenv\\lib\\site-packages (from onnxslim) (24.2)\n",
      "Requirement already satisfied: numpy>=1.20 in c:\\users\\user\\desktop\\ml_projects\\ml_start_caisar\\ml_start\\tenv\\lib\\site-packages (from onnx->onnxslim) (2.2.0)\n",
      "Requirement already satisfied: protobuf>=3.20.2 in c:\\users\\user\\desktop\\ml_projects\\ml_start_caisar\\ml_start\\tenv\\lib\\site-packages (from onnx->onnxslim) (5.29.3)\n",
      "Requirement already satisfied: mpmath<1.4,>=1.1.0 in c:\\users\\user\\desktop\\ml_projects\\ml_start_caisar\\ml_start\\tenv\\lib\\site-packages (from sympy->onnxslim) (1.3.0)\n",
      "Downloading onnxslim-0.1.47-py3-none-any.whl (142 kB)\n",
      "Installing collected packages: onnxslim\n",
      "Successfully installed onnxslim-0.1.47\n",
      "\n",
      "\u001b[31m\u001b[1mrequirements:\u001b[0m AutoUpdate success  6.1s, installed 1 package: ['onnxslim']\n",
      "\u001b[31m\u001b[1mrequirements:\u001b[0m  \u001b[1mRestart runtime or rerun command for updates to take effect\u001b[0m\n",
      "\n",
      "\n",
      "\u001b[34m\u001b[1mONNX:\u001b[0m starting export with onnx 1.17.0 opset 19...\n",
      "\u001b[34m\u001b[1mONNX:\u001b[0m slimming with onnxslim 0.1.47...\n",
      "\u001b[34m\u001b[1mONNX:\u001b[0m export success  8.5s, saved as 'best_yolo8 copy.onnx' (42.7 MB)\n",
      "\n",
      "Export complete (9.1s)\n",
      "Results saved to \u001b[1mC:\\Users\\User\\Desktop\\ML_projects\\ML_Start_Caisar\\ML_Start\\src\\7- \u001b[0m\n",
      "Predict:         yolo predict task=detect model=best_yolo8 copy.onnx imgsz=640  \n",
      "Validate:        yolo val task=detect model=best_yolo8 copy.onnx imgsz=640 data=data.yaml  \n",
      "Visualize:       https://netron.app\n"
     ]
    },
    {
     "data": {
      "text/plain": [
       "'best_yolo8 copy.onnx'"
      ]
     },
     "execution_count": 3,
     "metadata": {},
     "output_type": "execute_result"
    }
   ],
   "source": [
    "model = YOLO(r\".\\best_yolo8 copy.pt\")\n",
    "model.export(format=\"onnx\") "
   ]
  },
  {
   "cell_type": "markdown",
   "metadata": {},
   "source": [
    "### Перевод модели YOLO10n"
   ]
  },
  {
   "cell_type": "code",
   "execution_count": 4,
   "metadata": {},
   "outputs": [
    {
     "name": "stdout",
     "output_type": "stream",
     "text": [
      "Ultralytics 8.3.56  Python-3.12.1 torch-2.5.1+cpu CPU (AMD Ryzen 5 4600H with Radeon Graphics)\n",
      "YOLOv10n summary (fused): 285 layers, 2,694,806 parameters, 0 gradients, 8.2 GFLOPs\n",
      "\n",
      "\u001b[34m\u001b[1mPyTorch:\u001b[0m starting from 'best_yolo10n.pt' with input shape (1, 3, 640, 640) BCHW and output shape(s) (1, 300, 6) (5.5 MB)\n",
      "\n",
      "\u001b[34m\u001b[1mONNX:\u001b[0m starting export with onnx 1.17.0 opset 19...\n",
      "\u001b[34m\u001b[1mONNX:\u001b[0m slimming with onnxslim 0.1.47...\n",
      "\u001b[34m\u001b[1mONNX:\u001b[0m export success  2.1s, saved as 'best_yolo10n.onnx' (8.9 MB)\n",
      "\n",
      "Export complete (2.5s)\n",
      "Results saved to \u001b[1mC:\\Users\\User\\Desktop\\ML_projects\\ML_Start_Caisar\\ML_Start\\src\\7- \u001b[0m\n",
      "Predict:         yolo predict task=detect model=best_yolo10n.onnx imgsz=640  \n",
      "Validate:        yolo val task=detect model=best_yolo10n.onnx imgsz=640 data=data.yaml  \n",
      "Visualize:       https://netron.app\n"
     ]
    },
    {
     "data": {
      "text/plain": [
       "'best_yolo10n.onnx'"
      ]
     },
     "execution_count": 4,
     "metadata": {},
     "output_type": "execute_result"
    }
   ],
   "source": [
    "model_yolo10n = YOLO(r\".\\best_yolo10n.pt\")\n",
    "model_yolo10n.export(format=\"onnx\")"
   ]
  },
  {
   "cell_type": "code",
   "execution_count": 5,
   "metadata": {},
   "outputs": [
    {
     "name": "stdout",
     "output_type": "stream",
     "text": [
      "Ultralytics 8.3.56  Python-3.12.1 torch-2.5.1+cpu CPU (AMD Ryzen 5 4600H with Radeon Graphics)\n",
      "YOLO11n summary (fused): 238 layers, 2,582,347 parameters, 0 gradients, 6.3 GFLOPs\n",
      "\n",
      "\u001b[34m\u001b[1mPyTorch:\u001b[0m starting from 'best_yolo11 copy.pt' with input shape (1, 3, 640, 640) BCHW and output shape(s) (1, 5, 8400) (5.2 MB)\n",
      "\n",
      "\u001b[34m\u001b[1mONNX:\u001b[0m starting export with onnx 1.17.0 opset 19...\n",
      "\u001b[34m\u001b[1mONNX:\u001b[0m slimming with onnxslim 0.1.47...\n",
      "\u001b[34m\u001b[1mONNX:\u001b[0m export success  1.2s, saved as 'best_yolo11 copy.onnx' (10.1 MB)\n",
      "\n",
      "Export complete (1.6s)\n",
      "Results saved to \u001b[1mC:\\Users\\User\\Desktop\\ML_projects\\ML_Start_Caisar\\ML_Start\\src\\7- \u001b[0m\n",
      "Predict:         yolo predict task=detect model=best_yolo11 copy.onnx imgsz=640  \n",
      "Validate:        yolo val task=detect model=best_yolo11 copy.onnx imgsz=640 data=data.yaml  \n",
      "Visualize:       https://netron.app\n"
     ]
    },
    {
     "data": {
      "text/plain": [
       "'best_yolo11 copy.onnx'"
      ]
     },
     "execution_count": 5,
     "metadata": {},
     "output_type": "execute_result"
    }
   ],
   "source": [
    "model_yolo11 = YOLO(r\".\\best_yolo11 copy.pt\")\n",
    "model_yolo11.export(format=\"onnx\")"
   ]
  }
 ],
 "metadata": {
  "kernelspec": {
   "display_name": "tenv",
   "language": "python",
   "name": "python3"
  },
  "language_info": {
   "codemirror_mode": {
    "name": "ipython",
    "version": 3
   },
   "file_extension": ".py",
   "mimetype": "text/x-python",
   "name": "python",
   "nbconvert_exporter": "python",
   "pygments_lexer": "ipython3",
   "version": "3.12.1"
  }
 },
 "nbformat": 4,
 "nbformat_minor": 2
}
